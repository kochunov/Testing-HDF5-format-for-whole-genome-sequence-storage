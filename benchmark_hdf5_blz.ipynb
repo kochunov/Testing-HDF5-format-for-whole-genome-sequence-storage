{
 "metadata": {
  "name": "",
  "signature": "sha256:2644388be69b6a153c32e7b3622581879c9a2b3277a952a33e9eec2892e538ee"
 },
 "nbformat": 3,
 "nbformat_minor": 0,
 "worksheets": [
  {
   "cells": [
    {
     "cell_type": "markdown",
     "metadata": {},
     "source": [
      "<h1>Benchmarking HDF5 and BLZ for genotype data storage and access</h1>\n",
      "\n",
      "This notebook investigates the performance of HDF5 and BLZ disk-based formats for writing and reading 2-dimensional arrays of genotype data.\n",
      "\n",
      "The motivation is using HDF5 or BLZ to store arrays of genotype data, where the first dimension corresponds to genome positions where individuals differ genetically from each other (a.k.a. variants) and the second dimension corresponds to a cohort of individuals (a.k.a. samples). Each cell within the array stores the genotype of the individual at a genetic variant, coded as a 1 byte integer.\n",
      "\n",
      "We typically have >10 million variants across >1000 samples. Hence the arrays are long and thin. This notebook benchmarks a smaller but similar shaped dataset of 1000000 variants by 100 samples.\n",
      "\n",
      "Most genetic variants are also rare, hence the arrays are sparse along both dimensions, with most values being zeros.\n",
      "\n",
      "Different data analysis tasks require different access patterns for these data. Hence this notebook tests performance under a number of different access patterns, to get some idea of which configurations provide reasonable all-round performance, and which configurations might be optimal for some access patterns but slow for others.\n",
      "\n",
      "**Data**\n",
      "\n",
      "The data used in this benchmark are real genotype data from the [*Anopheles gambiae* 1000 genomes project phase 1 preview data release](http://www.malariagen.net/data/ag1000g-phase1-preview). Genotype data from chromosome arm 3L are used.\n",
      "\n",
      "**Hardware**\n",
      "\n",
      "All tests were performed on a Toshiba Portege Z930-108. Tests were performed using the onboard SSD, and using a WD My Passport 2TB external hard disk connected via USB 3.0.\n",
      "\n",
      "<hr style='height: 4px'/>"
     ]
    },
    {
     "cell_type": "heading",
     "level": 1,
     "metadata": {},
     "source": [
      "Setup"
     ]
    },
    {
     "cell_type": "code",
     "collapsed": false,
     "input": [
      "from __future__ import division, print_function\n",
      "import numpy as np\n",
      "import h5py\n",
      "import blz\n",
      "import sh\n",
      "import os\n",
      "import sys\n",
      "import itertools\n",
      "from datetime import datetime\n",
      "import gc\n",
      "import matplotlib.pyplot as plt\n",
      "import seaborn as sns\n",
      "import random\n",
      "import petl.interactive as etl\n",
      "import petlx.all\n",
      "import pandas\n",
      "%matplotlib inline\n",
      "\n",
      "\n",
      "def log(*msg):\n",
      "    print(str(datetime.now()) + ' :: ' + ' '.join(map(str, msg)), file=sys.stderr)\n",
      "    sys.stderr.flush()\n",
      "\n",
      "    \n",
      "def random_indices(n, k):\n",
      "    return sorted(random.sample(range(n), k))\n",
      "\n",
      "\n",
      "def random_selection(n, k):\n",
      "    selection = np.zeros((n,), np.bool)\n",
      "    indices = random_indices(n, k)\n",
      "    selection[indices] = True\n",
      "    return selection\n",
      "\n",
      "\n",
      "devices = 'ssd', 'hdd'"
     ],
     "language": "python",
     "metadata": {},
     "outputs": []
    },
    {
     "cell_type": "heading",
     "level": 2,
     "metadata": {},
     "source": [
      "HDF5 configurations"
     ]
    },
    {
     "cell_type": "code",
     "collapsed": false,
     "input": [
      "h5_compression_configurations = (\n",
      "    dict(compression='lzf', shuffle=False),\n",
      "    dict(compression='gzip', compression_opts=1, shuffle=False),\n",
      "    dict(compression='gzip', compression_opts=3, shuffle=False),\n",
      ")\n",
      "\n",
      "h5_chunk_sizes = (10000, 50000, 100000, 500000, 1000000)\n",
      "h5_chunk_widths = (1, 10, 100)\n",
      "h5_chunks_configurations = [(s//w, w) for (s, w) in itertools.product(h5_chunk_sizes, h5_chunk_widths)]\n",
      "\n",
      "h5_configurations = [dict(chunks=chunks, **compression) \n",
      "                     for (chunks, compression) in itertools.product(h5_chunks_configurations, \n",
      "                                                                    h5_compression_configurations)]\n",
      "h5_configurations.append(dict())  # add default config, no chunks\n",
      "etl.fromdicts(h5_configurations).display()"
     ],
     "language": "python",
     "metadata": {},
     "outputs": []
    },
    {
     "cell_type": "heading",
     "level": 2,
     "metadata": {},
     "source": [
      "BLZ configurations"
     ]
    },
    {
     "cell_type": "code",
     "collapsed": false,
     "input": [
      "blz_cnames = ('blosclz', 'lz4', 'lz4hc', 'zlib')\n",
      "blz_clevels = (1, 3)\n",
      "blz_chunklens = [1000, 2000, 5000, 10000, 20000, 50000, 100000]\n",
      "\n",
      "blz_configurations = [dict(cname=cname, clevel=clevel, shuffle=False, chunklen=chunklen)\n",
      "                      for (cname, clevel, chunklen) in itertools.product(blz_cnames, \n",
      "                                                                         blz_clevels, \n",
      "                                                                         blz_chunklens)]\n",
      "    \n",
      "etl.fromdicts(blz_configurations).display()"
     ],
     "language": "python",
     "metadata": {},
     "outputs": []
    },
    {
     "cell_type": "heading",
     "level": 2,
     "metadata": {},
     "source": [
      "Test data"
     ]
    },
    {
     "cell_type": "code",
     "collapsed": false,
     "input": [
      "n_variants = 1000000\n",
      "n_samples = 100\n",
      "n_replicates = 2\n",
      "chromosome = '3L'"
     ],
     "language": "python",
     "metadata": {},
     "outputs": []
    },
    {
     "cell_type": "code",
     "collapsed": false,
     "input": [
      "data_replicates = []\n",
      "with h5py.File('data/data.h5', mode='r') as f:\n",
      "    genotypes = f[chromosome]['calldata']['genotype']\n",
      "    for n in range(n_replicates):\n",
      "        # each replicate uses a different random slice of the data\n",
      "        n_variants_total = genotypes.shape[0]\n",
      "        start_index = random.randint(0, n_variants_total - n_variants)\n",
      "        stop_index = start_index + n_variants\n",
      "        d = genotypes[start_index:stop_index, :n_samples, ...]\n",
      "        # reduce data to 2 dimensions for the purpose of this benchmark\n",
      "        d = np.sum(d, axis=2, dtype='i1')\n",
      "        log(n, start_index, stop_index, d.shape, '%.1fMb' % (d.nbytes/1e6), '%.3f%% nonzero' % (np.count_nonzero(d)*100/d.size))\n",
      "        data_replicates.append(d)\n",
      "    "
     ],
     "language": "python",
     "metadata": {},
     "outputs": []
    },
    {
     "cell_type": "heading",
     "level": 2,
     "metadata": {},
     "source": [
      "Benchmark functions"
     ]
    },
    {
     "cell_type": "markdown",
     "metadata": {},
     "source": [
      "The command ``drop_cache`` is just a small script that executes:\n",
      "\n",
      "```\n",
      "#!/bin/bash\n",
      "echo 1 > /proc/sys/vm/drop_caches\n",
      "```\n",
      "\n",
      "This must be run as sudo, so to avoid passwords this script has been set in the sudoers file with NOPASSWD."
     ]
    },
    {
     "cell_type": "code",
     "collapsed": false,
     "input": [
      "def benchmark_h5(op, verbose=False):\n",
      "    results = []\n",
      "\n",
      "    # storage devices\n",
      "    for device in devices:\n",
      "\n",
      "        # replicates\n",
      "        for n, data in enumerate(data_replicates):\n",
      "\n",
      "            # configurations\n",
      "            for i, config in enumerate(h5_configurations):\n",
      "\n",
      "                sh.sudo.drop_cache()\n",
      "                fn = os.path.join(device, '%s.%s.h5' % (n, i))\n",
      "                if verbose:\n",
      "                    log(n, i, fn, config)\n",
      "                \n",
      "                # operation to be benchmarked\n",
      "                before = datetime.now()\n",
      "                ds = op(fn, config.copy(), data)\n",
      "                after = datetime.now()\n",
      "\n",
      "                compression = config.get('compression', 'none') + '.' + str(config.get('compression_opts', ''))\n",
      "                chunk_height, chunk_width = config.get('chunks', (0, 0))\n",
      "                chunk_size = chunk_width*chunk_height\n",
      "                elapsed = (after-before).total_seconds()\n",
      "                size_on_disk = os.stat(fn).st_size\n",
      "                compression_ratio = data.nbytes / size_on_disk\n",
      "                result = [n, device, compression, chunk_height, chunk_width, chunk_size, elapsed, size_on_disk, compression_ratio]\n",
      "                results.append(result)\n",
      "\n",
      "    df = pandas.DataFrame.from_records(results, \n",
      "                                       columns=['replicate',\n",
      "                                                'device',\n",
      "                                                'compression',\n",
      "                                                'chunk_height',\n",
      "                                                'chunk_width',\n",
      "                                                'chunk_size',\n",
      "                                                'time',\n",
      "                                                'size_on_disk',\n",
      "                                                'compression_ratio'])\n",
      "    return df\n",
      "      "
     ],
     "language": "python",
     "metadata": {},
     "outputs": []
    },
    {
     "cell_type": "code",
     "collapsed": false,
     "input": [
      "def benchmark_blz(op, verbose=False):\n",
      "    results = []\n",
      "\n",
      "    # storage devices\n",
      "    for device in devices:\n",
      "\n",
      "        # replicates\n",
      "        for n, data in enumerate(data_replicates):\n",
      "\n",
      "            # configurations\n",
      "            for i, config in enumerate(blz_configurations):\n",
      "\n",
      "                sh.sudo.drop_cache()\n",
      "                fn = os.path.join(device, '%s.%s.blz' % (n, i))\n",
      "                if verbose:\n",
      "                    log(n, i, fn, config)\n",
      "                \n",
      "                # operation to be benchmarked\n",
      "                before = datetime.now()\n",
      "                b = op(fn, config.copy(), data)\n",
      "                after = datetime.now()\n",
      "\n",
      "                compression = config.get('cname') + '.' + str(config.get('clevel'))\n",
      "                chunklen = config.get('chunklen')\n",
      "                elapsed = (after-before).total_seconds()\n",
      "                size_on_disk = b.cbytes\n",
      "                compression_ratio = data.nbytes / size_on_disk\n",
      "                result = [n, device, compression, chunklen, elapsed, size_on_disk, compression_ratio]\n",
      "                results.append(result)\n",
      "\n",
      "    df = pandas.DataFrame.from_records(results, \n",
      "                                       columns=['replicate',\n",
      "                                                'device',\n",
      "                                                'compression',\n",
      "                                                'chunklen',\n",
      "                                                'time',\n",
      "                                                'size_on_disk',\n",
      "                                                'compression_ratio'])\n",
      "    return df\n"
     ],
     "language": "python",
     "metadata": {},
     "outputs": []
    },
    {
     "cell_type": "heading",
     "level": 1,
     "metadata": {},
     "source": [
      "Write"
     ]
    },
    {
     "cell_type": "code",
     "collapsed": false,
     "input": [
      "def op_write_h5(fn, config, data):\n",
      "    with h5py.File(fn, mode='w') as h5:\n",
      "        ds = h5.create_dataset('test', data=data, **config)\n",
      "        return ds\n",
      "\n",
      "    \n",
      "def op_write_blz(fn, config, data):\n",
      "    bparams = blz.bparams(cname=config.pop('cname'),\n",
      "                          clevel=config.pop('clevel'),\n",
      "                          shuffle=config.pop('shuffle', False))\n",
      "    b = blz.barray(data, rootdir=fn, mode='w', bparams=bparams, **config)\n",
      "    return b\n",
      "\n",
      "\n",
      "df_write_h5 = benchmark_h5(op_write_h5)\n",
      "df_write_blz = benchmark_blz(op_write_blz)"
     ],
     "language": "python",
     "metadata": {},
     "outputs": []
    },
    {
     "cell_type": "code",
     "collapsed": false,
     "input": [
      "grid = sns.factorplot(x='chunk_size', y='time', \n",
      "                      row='device', col='chunk_width', hue='compression', \n",
      "                      data=df_write_h5, kind='point', estimator=np.min)\n",
      "grid.set(ylim=(0, 3))\n",
      "grid.fig.suptitle('HDF5 write speed', fontsize=20, y=1.03);\n",
      "\n",
      "grid = sns.factorplot(x='chunklen', y='time', \n",
      "                      row='device', hue='compression', \n",
      "                      data=df_write_blz, kind='point', estimator=np.min, \n",
      "                      palette=sns.color_palette('hls', n_colors=len(blz_cnames)*len(blz_clevels)))\n",
      "grid.set(ylim=(0, 3))\n",
      "grid.fig.suptitle('BLZ write speed', fontsize=20, y=1.03);"
     ],
     "language": "python",
     "metadata": {},
     "outputs": []
    },
    {
     "cell_type": "code",
     "collapsed": false,
     "input": [
      "grid = sns.factorplot(x='chunk_size', y='compression_ratio', \n",
      "                      col='chunk_width', hue='compression', \n",
      "                      data=df_write_h5, kind='point', estimator=np.min)\n",
      "grid.fig.suptitle('HDF5 compression ratio', fontsize=20, y=1.03);\n",
      "\n",
      "grid = sns.factorplot(x='chunklen', y='compression_ratio', \n",
      "                      hue='compression', \n",
      "                      data=df_write_blz, kind='point', estimator=np.min,\n",
      "                      palette=sns.color_palette('hls', n_colors=len(blz_cnames)*len(blz_clevels)))\n",
      "\n",
      "grid.fig.suptitle('BLZ compression ratio', fontsize=20, y=1.03);"
     ],
     "language": "python",
     "metadata": {},
     "outputs": []
    },
    {
     "cell_type": "heading",
     "level": 1,
     "metadata": {},
     "source": [
      "Read all"
     ]
    },
    {
     "cell_type": "code",
     "collapsed": false,
     "input": [
      "def op_read_h5(fn, *args):\n",
      "    with h5py.File(fn, mode='r') as h5:\n",
      "        ds = h5['test']\n",
      "        a = ds[:]\n",
      "        return ds\n",
      "\n",
      "    \n",
      "def op_read_blz(fn, *args):\n",
      "    b = blz.barray(rootdir=fn, mode='r')\n",
      "    a = b[:]\n",
      "    return b\n",
      "\n",
      "\n",
      "df_read_h5 = benchmark_h5(op_read_h5)\n",
      "df_read_blz = benchmark_blz(op_read_blz)"
     ],
     "language": "python",
     "metadata": {},
     "outputs": []
    },
    {
     "cell_type": "code",
     "collapsed": false,
     "input": [
      "grid = sns.factorplot(x='chunk_size', y='time', \n",
      "                      row='device', col='chunk_width', hue='compression', \n",
      "                      data=df_read_h5, kind='point', estimator=np.min)\n",
      "grid.set(ylim=(0, 2))\n",
      "grid.fig.suptitle('HDF5 read', fontsize=20, y=1.03);\n",
      "\n",
      "grid = sns.factorplot(x='chunklen', y='time', \n",
      "                      row='device', hue='compression', \n",
      "                      data=df_read_blz, kind='point', estimator=np.min, \n",
      "                      palette=sns.color_palette('hls', n_colors=len(blz_cnames)*len(blz_clevels)))\n",
      "grid.set(ylim=(0, 2))\n",
      "grid.fig.suptitle('BLZ read', fontsize=20, y=1.03);"
     ],
     "language": "python",
     "metadata": {},
     "outputs": []
    },
    {
     "cell_type": "heading",
     "level": 1,
     "metadata": {},
     "source": [
      "Read single column"
     ]
    },
    {
     "cell_type": "code",
     "collapsed": false,
     "input": [
      "def op_read_col_h5(fn, *args):\n",
      "    with h5py.File(fn, mode='r') as h5:\n",
      "        ds = h5['test']\n",
      "        a = ds[:, 0]\n",
      "        return ds\n",
      "\n",
      "    \n",
      "def op_read_col_blz(fn, *args):\n",
      "    b = blz.barray(rootdir=fn, mode='r')\n",
      "    a = b[:, 0]\n",
      "    return b\n",
      "\n",
      "\n",
      "df_read_col_h5 = benchmark_h5(op_read_col_h5)\n",
      "df_read_col_blz = benchmark_blz(op_read_col_blz)"
     ],
     "language": "python",
     "metadata": {},
     "outputs": []
    },
    {
     "cell_type": "code",
     "collapsed": false,
     "input": [
      "grid = sns.factorplot(x='chunk_size', y='time', \n",
      "                      row='device', col='chunk_width', hue='compression', \n",
      "                      data=df_read_col_h5, kind='point', estimator=np.min)\n",
      "grid.set(ylim=(0, 1.5))\n",
      "grid.fig.suptitle('HDF5 read column', fontsize=20, y=1.03);\n",
      "\n",
      "grid = sns.factorplot(x='chunklen', y='time', \n",
      "                      row='device', hue='compression', \n",
      "                      data=df_read_col_blz, kind='point', estimator=np.min, \n",
      "                      palette=sns.color_palette('hls', n_colors=len(blz_cnames)*len(blz_clevels)))\n",
      "grid.set(ylim=(0, 1.5))\n",
      "grid.fig.suptitle('BLZ read column', fontsize=20, y=1.03);"
     ],
     "language": "python",
     "metadata": {},
     "outputs": []
    },
    {
     "cell_type": "heading",
     "level": 1,
     "metadata": {},
     "source": [
      "Read contiguous rows"
     ]
    },
    {
     "cell_type": "code",
     "collapsed": false,
     "input": [
      "def op_read_rows_h5(fn, *args):\n",
      "    with h5py.File(fn, mode='r') as h5:\n",
      "        ds = h5['test']\n",
      "        a = ds[400000:600000, :]\n",
      "        return ds\n",
      "\n",
      "    \n",
      "def op_read_rows_blz(fn, *args):\n",
      "    b = blz.barray(rootdir=fn, mode='r')\n",
      "    a = b[400000:600000, :]\n",
      "    return b\n",
      "\n",
      "\n",
      "df_read_rows_h5 = benchmark_h5(op_read_rows_h5)\n",
      "df_read_rows_blz = benchmark_blz(op_read_rows_blz)"
     ],
     "language": "python",
     "metadata": {},
     "outputs": []
    },
    {
     "cell_type": "code",
     "collapsed": false,
     "input": [
      "grid = sns.factorplot(x='chunk_size', y='time', \n",
      "                      row='device', col='chunk_width', hue='compression', \n",
      "                      data=df_read_rows_h5, kind='point', estimator=np.min)\n",
      "grid.set(ylim=(0, .8))\n",
      "grid.fig.suptitle('HDF5 read rows', fontsize=20, y=1.03);\n",
      "\n",
      "grid = sns.factorplot(x='chunklen', y='time', \n",
      "                      row='device', hue='compression', \n",
      "                      data=df_read_rows_blz, kind='point', estimator=np.min, \n",
      "                      palette=sns.color_palette('hls', n_colors=len(blz_cnames)*len(blz_clevels)))\n",
      "grid.set(ylim=(0, .8))\n",
      "grid.fig.suptitle('BLZ read rows', fontsize=20, y=1.03);"
     ],
     "language": "python",
     "metadata": {},
     "outputs": []
    },
    {
     "cell_type": "heading",
     "level": 1,
     "metadata": {},
     "source": [
      "Read rows with step"
     ]
    },
    {
     "cell_type": "code",
     "collapsed": false,
     "input": [
      "step = 200\n",
      "\n",
      "\n",
      "def op_read_rows_step_h5(fn, *args):\n",
      "    with h5py.File(fn, mode='r') as h5:\n",
      "        ds = h5['test']\n",
      "        a = ds[::step, :]\n",
      "        return ds\n",
      "\n",
      "    \n",
      "def op_read_rows_step_blz(fn, *args):\n",
      "    b = blz.barray(rootdir=fn, mode='r')\n",
      "    a = b[::step, :]\n",
      "    return b\n",
      "\n",
      "\n",
      "df_read_rows_step_h5 = benchmark_h5(op_read_rows_step_h5)\n",
      "df_read_rows_step_blz = benchmark_blz(op_read_rows_step_blz)"
     ],
     "language": "python",
     "metadata": {},
     "outputs": []
    },
    {
     "cell_type": "code",
     "collapsed": false,
     "input": [
      "grid = sns.factorplot(x='chunk_size', y='time', \n",
      "                      row='device', col='chunk_width', hue='compression', \n",
      "                      data=df_read_rows_step_h5, kind='point', estimator=np.min)\n",
      "grid.set(ylim=(0, 2)) \n",
      "grid.fig.suptitle('HDF5 read rows with step', fontsize=20, y=1.03);\n",
      "\n",
      "grid = sns.factorplot(x='chunklen', y='time', \n",
      "                      row='device', hue='compression', \n",
      "                      data=df_read_rows_step_blz, kind='point', estimator=np.min, \n",
      "                      palette=sns.color_palette('hls', n_colors=len(blz_cnames)*len(blz_clevels)))\n",
      "grid.set(ylim=(0, 2))\n",
      "grid.fig.suptitle('BLZ read rows with step', fontsize=20, y=1.03);"
     ],
     "language": "python",
     "metadata": {},
     "outputs": []
    },
    {
     "cell_type": "heading",
     "level": 1,
     "metadata": {},
     "source": [
      "Read rows with selection"
     ]
    },
    {
     "cell_type": "code",
     "collapsed": false,
     "input": [
      "selection = random_selection(n_variants, n_variants//200)\n",
      "\n",
      "\n",
      "def op_read_rows_sel_h5(fn, *args):\n",
      "    with h5py.File(fn, mode='r') as h5:\n",
      "        ds = h5['test']\n",
      "        a = ds[selection, :]\n",
      "        return ds\n",
      "\n",
      "    \n",
      "def op_read_rows_sel_blz(fn, *args):\n",
      "    b = blz.barray(rootdir=fn, mode='r')\n",
      "    a = b[selection, :]\n",
      "    return b\n",
      "\n",
      "\n",
      "df_read_rows_sel_h5 = benchmark_h5(op_read_rows_sel_h5)\n",
      "# df_read_rows_sel_blz = benchmark_blz(op_read_rows_sel_blz)  # not implemented"
     ],
     "language": "python",
     "metadata": {},
     "outputs": []
    },
    {
     "cell_type": "code",
     "collapsed": false,
     "input": [
      "grid = sns.factorplot(x='chunk_size', y='time', \n",
      "                      row='device', col='chunk_width', hue='compression', \n",
      "                      data=df_read_rows_sel_h5, kind='point', estimator=np.min)\n",
      "grid.set(ylim=(0, 1.5))  \n",
      "grid.fig.suptitle('HDF5 read rows with selection', fontsize=20, y=1.03);\n",
      "\n",
      "# grid = sns.factorplot(x='chunklen', y='time', \n",
      "#                       row='device', hue='compression', \n",
      "#                       data=df_read_rows_sel_blz, kind='point', estimator=np.min, \n",
      "#                       palette=sns.color_palette('hls', n_colors=len(blz_cnames)*len(blz_clevels)))\n",
      "# grid.set(ylim=(0, .8))\n",
      "# grid.fig.suptitle('BLZ read rows with step', fontsize=20, y=1.03);"
     ],
     "language": "python",
     "metadata": {},
     "outputs": []
    },
    {
     "cell_type": "heading",
     "level": 1,
     "metadata": {},
     "source": [
      "Point selection"
     ]
    },
    {
     "cell_type": "code",
     "collapsed": false,
     "input": [
      "def take2d(dataset, row_indices, col_indices, block_size=1000):\n",
      "    \n",
      "    # determine number of items to select\n",
      "    m = len(row_indices)\n",
      "    n = len(col_indices)\n",
      "    z = m*n\n",
      "    \n",
      "    # initialise output array\n",
      "    out = np.empty((z,), dtype=dataset.dtype)\n",
      "    \n",
      "    # convert indices into coordinates\n",
      "    coords = itertools.product(row_indices, col_indices)\n",
      "    \n",
      "    # set up selection\n",
      "    sel = h5py._hl.selections.PointSelection(dataset.shape)\n",
      "    typ = h5py.h5t.py_create(dataset.dtype)\n",
      "                                   \n",
      "    # process blocks at a time\n",
      "    for block_start in xrange(0, z, block_size):\n",
      "        \n",
      "        # materialise a block of coordinates\n",
      "        selection = np.asarray(list(itertools.islice(coords, block_size)))\n",
      "\n",
      "        # set selection\n",
      "        sel.set(selection)\n",
      "    \n",
      "        # read data\n",
      "        block_stop = block_start + len(selection)\n",
      "        space = h5py.h5s.create_simple(sel.mshape)\n",
      "        dataset.id.read(space,\n",
      "                        sel._id,\n",
      "                        out[block_start:block_stop],\n",
      "                        typ)\n",
      "    \n",
      "    # reshape output array\n",
      "    out = out.reshape(m, n)\n",
      "\n",
      "    return out"
     ],
     "language": "python",
     "metadata": {},
     "outputs": []
    },
    {
     "cell_type": "code",
     "collapsed": false,
     "input": [
      "row_indices = random_indices(n_variants, n_variants//200)\n",
      "col_indices = random_indices(n_samples, n_samples//10)\n",
      "\n",
      "\n",
      "def op_read_points_h5(fn, *args):\n",
      "    with h5py.File(fn, mode='r') as h5:\n",
      "        ds = h5['test']\n",
      "        a = take2d(ds, row_indices, col_indices)\n",
      "        return ds\n",
      "\n",
      "    \n",
      "df_read_points_h5 = benchmark_h5(op_read_points_h5)"
     ],
     "language": "python",
     "metadata": {},
     "outputs": []
    },
    {
     "cell_type": "code",
     "collapsed": false,
     "input": [
      "grid = sns.factorplot(x='chunk_size', y='time', \n",
      "                      row='device', col='chunk_width', hue='compression', \n",
      "                      data=df_read_points_h5, kind='point', estimator=np.min)\n",
      "grid.set(ylim=(0, 1))  \n",
      "grid.fig.suptitle('HDF5 point selection', fontsize=20, y=1.03);"
     ],
     "language": "python",
     "metadata": {},
     "outputs": []
    },
    {
     "cell_type": "code",
     "collapsed": false,
     "input": [],
     "language": "python",
     "metadata": {},
     "outputs": []
    }
   ],
   "metadata": {}
  }
 ]
}